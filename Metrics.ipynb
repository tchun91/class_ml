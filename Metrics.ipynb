{
  "nbformat": 4,
  "nbformat_minor": 0,
  "metadata": {
    "colab": {
      "provenance": [],
      "authorship_tag": "ABX9TyM7w8PN/xGYDCii47UMqs6A"
    },
    "kernelspec": {
      "name": "python3",
      "display_name": "Python 3"
    },
    "language_info": {
      "name": "python"
    }
  },
  "cells": [
    {
      "cell_type": "markdown",
      "source": [
        "# 1. Bias and Variance  "
      ],
      "metadata": {
        "id": "RdO7j8n0QnLp"
      }
    },
    {
      "cell_type": "markdown",
      "source": [
        "$\\mathbb{E}[(y - \\hat{f}(x))^2] = (\\text{Bias}[\\hat{f}(x)])^2 + \\text{Var}[\\hat{f}(x)] + \\sigma^2\n",
        "$"
      ],
      "metadata": {
        "id": "z8pEXNM9C1zz"
      }
    },
    {
      "cell_type": "markdown",
      "source": [
        "**Bias**: $(\\mathbb{E}[\\hat{f}(x)] - f(x))^2$   \n",
        "- The difference between predicted values and true values  \n",
        "- High bias indicates underfitted  \n",
        "  - More complex model\n",
        "  - More training\n",
        "\n",
        "  \n",
        "**Variance**:  $\\mathbb{E}[(\\hat{f}(x) - \\mathbb{E}[\\hat{f}(x)])^2]$  \n",
        "- The difference among predicted values  \n",
        "- High variance indicates overfitted and too sensitive to data  \n",
        "  - Bigger dataset\n",
        "  - Regularization\n"
      ],
      "metadata": {
        "id": "yrIF-gxq-fZt"
      }
    },
    {
      "cell_type": "markdown",
      "source": [
        "<img src = \"https://www.cs.cornell.edu/courses/cs4780/2018fa/lectures/images/bias_variance/bullseye.png\" width = 600 height = 540>"
      ],
      "metadata": {
        "id": "AmBkgf7uBaRI"
      }
    },
    {
      "cell_type": "markdown",
      "source": [
        "**Bias - Variance Tradeoff**\n",
        "- Low bias & low variance is ideal case.  "
      ],
      "metadata": {
        "id": "6qMa-LBkBaOr"
      }
    },
    {
      "cell_type": "markdown",
      "source": [
        "<img src = \"http://scott.fortmann-roe.com/docs/docs/BiasVariance/biasvariance.png\" width = 600>"
      ],
      "metadata": {
        "id": "PaCsHBPyBaL3"
      }
    },
    {
      "cell_type": "markdown",
      "source": [
        "- Generalized error  \n",
        "$\\text{Bias}^2(\\hat{y}_s, y) + \\text{Var}(\\hat{y}_s) + σ^2$"
      ],
      "metadata": {
        "id": "iYy2i_X-sEyS"
      }
    },
    {
      "cell_type": "markdown",
      "source": [
        "# 2. Regression Metrics"
      ],
      "metadata": {
        "id": "SA6SGO3TRhvS"
      }
    },
    {
      "cell_type": "markdown",
      "source": [
        " ### MSE (Mean squared error)"
      ],
      "metadata": {
        "id": "STWMLw5ISIWI"
      }
    },
    {
      "cell_type": "markdown",
      "source": [
        "- $\\text{MSE} = \\frac{1}{n} \\sum_{i=1}^{n} (y_i - \\hat{y}_i)^2$    \n",
        "- Sensitive to large errors because errors are squared  \n",
        "- Using this metric can lead to overfitted models\n",
        "\n"
      ],
      "metadata": {
        "id": "shT5igudHQd1"
      }
    },
    {
      "cell_type": "markdown",
      "source": [
        "Use case: When catching large error is important\n",
        "- Finance modeling  \n",
        "- Risk assessment"
      ],
      "metadata": {
        "id": "THJpb9tIskex"
      }
    },
    {
      "cell_type": "markdown",
      "source": [
        "### MAE (Mean absolute error)"
      ],
      "metadata": {
        "id": "KMGM1AhHSISp"
      }
    },
    {
      "cell_type": "markdown",
      "source": [
        "- $\\text{MAE} = \\frac{1}{n} \\sum_{i=1}^{n} |y_i - \\hat{y}_i|$  \n",
        "- No panelty to larger errors  \n",
        "- Less sensitive to outliers then MSE"
      ],
      "metadata": {
        "id": "X20c5RFeH37M"
      }
    },
    {
      "cell_type": "markdown",
      "source": [
        "Use cases: Suitable for continuous data & Evaluating consistant model performance    \n",
        "- Time series forcasting\n",
        "  - Intuituve assessment by calculating the absolute difference  \n",
        "- Medical Data (blood pressure, heart rate)"
      ],
      "metadata": {
        "id": "M_0OUOmdH35d"
      }
    },
    {
      "cell_type": "markdown",
      "source": [
        "### MAPE (Mean absolute percentage error)"
      ],
      "metadata": {
        "id": "PJJUw8RGSIP7"
      }
    },
    {
      "cell_type": "markdown",
      "source": [
        "- $\\text{MAPE} = \\frac{100}{n} \\sum_{i=1}^{n} \\left| \\frac{y_i - \\hat{y}_i}{y_i} \\right|$  \n",
        "- Measures the error as a percentage of the actual value  \n",
        "- Expressed as a percentage  \n",
        "- Cannot handle y=0 instances  \n",
        "  Return MAE for these cases    \n",
        "- Exaggerates small errors  \n",
        "  ex)$y_i = 0.1,  \\hat{y}_i = 0.5$. Then, MAPE = 400%\n"
      ],
      "metadata": {
        "id": "JF8zk94iq1ML"
      }
    },
    {
      "cell_type": "markdown",
      "source": [
        "Use cases: When interested in relative percentage rather than unit\n",
        "differences   \n",
        "- Demand forecasting  \n",
        "- Economics (inflation)"
      ],
      "metadata": {
        "id": "sxdRtPavq1JM"
      }
    },
    {
      "cell_type": "markdown",
      "source": [
        "### MdAE (Median absolute error)"
      ],
      "metadata": {
        "id": "POxxnnQESINH"
      }
    },
    {
      "cell_type": "markdown",
      "source": [
        "- $\\text{MdAE} = \\text{median}(|y_i - \\hat{y}_i|)$  \n",
        "- Less sensitive to outliers compared to MSE and MAE  "
      ],
      "metadata": {
        "id": "SJwWTvYDSIKS"
      }
    },
    {
      "cell_type": "markdown",
      "source": [
        "Use cases: When extreme outlier or noise exists  \n",
        "- House price prediction  \n"
      ],
      "metadata": {
        "id": "WTdo3f4sSIHn"
      }
    },
    {
      "cell_type": "code",
      "source": [
        "import numpy as np\n",
        "import pandas as pd\n",
        "import matplotlib.pyplot as plt\n",
        "\n",
        "num_iterations = 50\n",
        "mse_values = []\n",
        "mae_values = []\n",
        "mape_values = []\n",
        "mdae_values = []\n",
        "\n",
        "for _ in range(num_iterations):\n",
        "    y_true = np.random.randn(100) * 10  # mean = 0, standard deviation = 10\n",
        "    y_pred = y_true + np.random.randn(100) * 2  #y_true + noise\n",
        "\n",
        "    mse = np.mean((y_true - y_pred) ** 2)\n",
        "    mae = np.mean(np.abs(y_true - y_pred))\n",
        "    mape = np.mean(np.abs((y_true - y_pred) / y_true)) * 100\n",
        "    mdae = np.median(np.abs(y_true - y_pred))\n",
        "\n",
        "    mse_values.append(mse)\n",
        "    mae_values.append(mae)\n",
        "    mape_values.append(mape)\n",
        "    mdae_values.append(mdae)\n",
        "\n",
        "results_df = pd.DataFrame({\n",
        "    'MSE': mse_values,\n",
        "    'MAE': mae_values,\n",
        "    'MAPE': mape_values,\n",
        "    'MdAE': mdae_values\n",
        "})\n",
        "\n",
        "plt.figure(figsize=(10, 6))\n",
        "results_df.boxplot()\n",
        "plt.title(\"Comparison of Error Metrics (MSE, MAE, MAPE, MdAE)\")\n",
        "plt.ylabel(\"Error Value\")\n",
        "plt.show()\n"
      ],
      "metadata": {
        "colab": {
          "base_uri": "https://localhost:8080/",
          "height": 545
        },
        "id": "mZlHhRIC_qhu",
        "outputId": "d300ffa0-c602-4483-ade2-2656e6e3e13a"
      },
      "execution_count": null,
      "outputs": [
        {
          "output_type": "display_data",
          "data": {
            "text/plain": [
              "<Figure size 1000x600 with 1 Axes>"
            ],
            "image/png": "[encoded data removed]"
          },
          "metadata": {}
        }
      ]
    },
    {
      "cell_type": "code",
      "source": [
        "results_df = pd.DataFrame({\n",
        "    'MSE': mse_values,\n",
        "    'MAE': mae_values,\n",
        "    'MdAE': mdae_values\n",
        "})\n",
        "\n",
        "plt.figure(figsize=(10, 6))\n",
        "results_df.boxplot()\n",
        "plt.title(\"Comparison of Error Metrics (MSE, MAE, MdAE)\")\n",
        "plt.ylabel(\"Error Value\")\n",
        "plt.show()"
      ],
      "metadata": {
        "colab": {
          "base_uri": "https://localhost:8080/",
          "height": 545
        },
        "id": "6BEfIBRaA2D-",
        "outputId": "3135be18-9ade-480e-a128-283a289e4b0b"
      },
      "execution_count": null,
      "outputs": [
        {
          "output_type": "display_data",
          "data": {
            "text/plain": [
              "<Figure size 1000x600 with 1 Axes>"
            ],
            "image/png": "[encoded data removed]"
          },
          "metadata": {}
        }
      ]
    },
    {
      "cell_type": "markdown",
      "source": [
        "# 3. Classification Metrics"
      ],
      "metadata": {
        "id": "YdW8jA71R8oZ"
      }
    },
    {
      "cell_type": "markdown",
      "source": [
        "## 3.1 Binary Classification"
      ],
      "metadata": {
        "id": "TH2rUSMpU68G"
      }
    },
    {
      "cell_type": "markdown",
      "source": [
        "<img src = \"https://storage.googleapis.com/lds-media/images/Confusion_Matrix.width-1200.png\" width = 700>"
      ],
      "metadata": {
        "id": "LuQoCgj97iTS"
      }
    },
    {
      "cell_type": "markdown",
      "source": [
        "### $\\text{Precision} = \\frac{TP}{TP + FP}$"
      ],
      "metadata": {
        "id": "VUuicXS7SZIR"
      }
    },
    {
      "cell_type": "markdown",
      "source": [
        "- Measures the proportion of **predicted positives** that are **actually true positives**  \n",
        "- Evaluates how accurate the positive predictions are  \n",
        "- Used when false positive is critical, that is correct classification is important  \n",
        "  - Spam filtering"
      ],
      "metadata": {
        "id": "V9SKjrxR9ph_"
      }
    },
    {
      "cell_type": "markdown",
      "source": [
        "### $\\text{Recall} = \\frac{TP}{TP + FN}$"
      ],
      "metadata": {
        "id": "O0ToGIH1SZE3"
      }
    },
    {
      "cell_type": "markdown",
      "source": [
        "- Measures the proportion of **actual positives** that are correctly identified by the model  \n",
        "- Evaluates how many true positives the model successfully detected  \n",
        "- Used in medical tests, where missing actual positive cases is critical  \n",
        "  - Cancer detection  "
      ],
      "metadata": {
        "id": "wrTdfvNFATsE"
      }
    },
    {
      "cell_type": "markdown",
      "source": [
        "### $\\text{F1} = 2 \\times \\frac{\\text{Precision} \\times \\text{Recall}}{\\text{Precision} + \\text{Recall}}$"
      ],
      "metadata": {
        "id": "3dTfQ__LSZCd"
      }
    },
    {
      "cell_type": "markdown",
      "source": [
        "- The harmonic mean of Precision and Recall  \n",
        "  - Harmonic mean focuses on balancing the values  \n",
        "- Provides a balance between the two metrics  \n",
        "- Useful when the data is imbalanced or there is a tradeoff between precision and recall\n",
        "  - Crime prediction"
      ],
      "metadata": {
        "id": "dxMqeOE1Bna_"
      }
    },
    {
      "cell_type": "markdown",
      "source": [
        "### $\\text{Accuracy} = \\frac{TP + TN}{TP + TN + FP + FN}$"
      ],
      "metadata": {
        "id": "f7EJtQe5SZAB"
      }
    },
    {
      "cell_type": "markdown",
      "source": [
        "- Measures the proportion of correctly predicted instances out of the total instances  \n",
        "- Used for general classification with balanced dataset  "
      ],
      "metadata": {
        "id": "aBQNXNfDBn1M"
      }
    },
    {
      "cell_type": "markdown",
      "source": [
        "### ROC(Receiver Operating Characteristic) and AUC(Area Under the Curve)"
      ],
      "metadata": {
        "id": "danL8rDBVdDi"
      }
    },
    {
      "cell_type": "markdown",
      "source": [
        "- ROC : The relationship between  TPR and FPR  \n",
        "  - TPR = Recall = Sensitivity = $\\frac{TP}{TP + FN}$\n",
        "  - FPR = $\\frac{FP}{TN + FP}$  \n",
        "  - The shape of the ROC curve represents the classification performance.\n",
        "  - Each point on the ROC curve represents the TPR and FPR at a specific threshold.  \n",
        "- AUC : Area under the curve\n",
        "  - 0 ~ 1\n",
        "  - AUC < 0.5: The model performance is worse than random guessing    \n",
        "  - AUC = 0.5: The model performance is same as random guessing  \n",
        "  - AUC > 0.5: The model performance is better than random guessing  "
      ],
      "metadata": {
        "id": "HvM_5TmBLWWs"
      }
    },
    {
      "cell_type": "markdown",
      "source": [
        "<div style=\"display: flex;\">\n",
        "    <img src=\"https://miro.medium.com/v2/resize:fit:640/format:webp/1*Uu-t4pOotRQFoyrfqEvIEg.png\" alt=\"AUC 0.5\" width=\"600\" >\n",
        "    <img src=\"https://miro.medium.com/v2/resize:fit:640/format:webp/1*HmVIhSKznoW8tFsCLeQjRw.png\" alt=\"AUC 1.0\" width=\"300\">\n",
        "\n",
        "</div>\n"
      ],
      "metadata": {
        "id": "13f_F3vgZznD"
      }
    },
    {
      "cell_type": "markdown",
      "source": [
        "<div style=\"display: flex;\">\n",
        "    <img src=\"https://miro.medium.com/v2/resize:fit:640/format:webp/1*yF8hvKR9eNfqqej2JnVKzg.png\" alt=\"AUC 0.5\" width=\"600\" >\n",
        "    <img src=\"https://miro.medium.com/v2/resize:fit:640/format:webp/1*-tPXUvvNIZDbqXP0qqYNuQ.png\" alt=\"AUC 1.0\" width=\"300\">\n",
        "\n",
        "</div>"
      ],
      "metadata": {
        "id": "0lhwplZXOp_B"
      }
    },
    {
      "cell_type": "markdown",
      "source": [
        "## 3.2 Multiple Classification"
      ],
      "metadata": {
        "id": "np0a6RKAVHiR"
      }
    },
    {
      "cell_type": "markdown",
      "source": [
        "- One vs All Method\n",
        "- Average Method\n",
        "  - Micro    \n",
        "  $\\text{Micro Precision} = \\frac{\\sum_{i=1}^{n} TP_i}{\\sum_{i=1}^{n} (TP_i + FP_i)}$  \n",
        "  $\\text{Micro Recall} = \\frac{\\sum_{i=1}^{n} TP_i}{\\sum_{i=1}^{n} (TP_i + FN_i)}$  \n",
        "    \n",
        "  - Macro  \n",
        "$\\text{Macro Precision} = \\frac{1}{n} \\sum_{i=1}^{n} \\text{Precision for each class}$    \n",
        "$\\text{Macro Recall} = \\frac{1}{n} \\sum_{i=1}^{n} \\text{Recall for each class}$  \n",
        "  - Weighted  \n",
        "  $\\text{Weighted Precision} = \\frac{\\sum_{i=1}^{n} n_i \\times \\text{Precision}_i}{\\sum_{i=1}^{n} n_i}$  (n : number of instances in each class)  \n",
        "  $\\text{Weighted Recall} = \\frac{\\sum_{i=1}^{n} n_i \\times \\text{Recall}_i}{\\sum_{i=1}^{n} n_i}$"
      ],
      "metadata": {
        "id": "siUUH7W40tmg"
      }
    },
    {
      "cell_type": "markdown",
      "source": [
        "One vs All Method"
      ],
      "metadata": {
        "id": "ph3PTpRK1xFk"
      }
    },
    {
      "cell_type": "code",
      "source": [
        "from sklearn.datasets import load_iris\n",
        "from sklearn.model_selection import train_test_split\n",
        "from sklearn.tree import DecisionTreeClassifier\n",
        "import numpy as np\n",
        "\n",
        "iris = load_iris()\n",
        "X = iris.data\n",
        "y = iris.target\n",
        "\n",
        "X_train, X_test, y_train, y_test = train_test_split(X, y, test_size=0.2)\n",
        "\n",
        "clf = DecisionTreeClassifier(max_depth=2)\n",
        "clf.fit(X_train, y_train)\n",
        "\n",
        "y_pred = clf.predict(X_test)\n",
        "\n",
        "def calculate_precision_recall_f1_accuracy(y_true, y_pred):\n",
        "    true_positive = np.zeros(np.max(y_true) + 1)\n",
        "    false_positive = np.zeros(np.max(y_true) + 1)\n",
        "    false_negative = np.zeros(np.max(y_true) + 1)\n",
        "    true_negative = np.zeros(np.max(y_true) + 1)\n",
        "\n",
        "    for i in range(len(y_true)):\n",
        "        if y_pred[i] == y_true[i]:\n",
        "            true_positive[y_true[i]] += 1\n",
        "            for label in range(np.max(y_true) + 1):\n",
        "                if label != y_true[i]:\n",
        "                    true_negative[label] += 1\n",
        "        else:\n",
        "            false_positive[y_pred[i]] += 1\n",
        "            false_negative[y_true[i]] += 1\n",
        "\n",
        "    precision = true_positive / (true_positive + false_positive)\n",
        "    recall = true_positive / (true_positive + false_negative)\n",
        "    f1_score = 2 * (precision * recall) / (precision + recall)\n",
        "    accuracy = np.sum(true_positive) / len(y_true)\n",
        "\n",
        "    return precision, recall, f1_score, accuracy\n",
        "\n",
        "precision, recall, f1_score, accuracy = calculate_precision_recall_f1_accuracy(y_test, y_pred)\n",
        "\n",
        "print(f\"Precision: {precision}\")\n",
        "print(f\"Recall: {recall}\")\n",
        "print(f\"F1-Score: {f1_score}\")\n",
        "print(f\"Accuracy: {accuracy:.4f}\")"
      ],
      "metadata": {
        "id": "qDwLNpQeUtWX",
        "colab": {
          "base_uri": "https://localhost:8080/"
        },
        "outputId": "075b45e1-efea-4e76-fe82-a35397f6de92"
      },
      "execution_count": null,
      "outputs": [
        {
          "output_type": "stream",
          "name": "stdout",
          "text": [
            "Precision: [1.         1.         0.86666667]\n",
            "Recall: [1.         0.77777778 1.        ]\n",
            "F1-Score: [1.         0.875      0.92857143]\n",
            "Accuracy: 0.9333\n"
          ]
        }
      ]
    },
    {
      "cell_type": "markdown",
      "source": [
        "Average Method"
      ],
      "metadata": {
        "id": "PPsxprgz1zyL"
      }
    },
    {
      "cell_type": "code",
      "source": [
        "from sklearn.metrics import precision_score, recall_score, f1_score\n",
        "\n",
        "precision_micro = precision_score(y_test, y_pred, average='micro')\n",
        "recall_micro = recall_score(y_test, y_pred, average='micro')\n",
        "f1_micro = f1_score(y_test, y_pred, average='micro')\n",
        "\n",
        "precision_macro = precision_score(y_test, y_pred, average='macro')\n",
        "recall_macro = recall_score(y_test, y_pred, average='macro')\n",
        "f1_macro = f1_score(y_test, y_pred, average='macro')\n",
        "\n",
        "precision_weighted = precision_score(y_test, y_pred, average='weighted')\n",
        "recall_weighted = recall_score(y_test, y_pred, average='weighted')\n",
        "f1_weighted = f1_score(y_test, y_pred, average='weighted')\n",
        "\n",
        "print(f\"Micro-Average Precision: {precision_micro:.4f}, Recall: {recall_micro:.4f}, F1-Score: {f1_micro:.4f}\")\n",
        "print(f\"Macro-Average Precision: {precision_macro:.4f}, Recall: {recall_macro:.4f}, F1-Score: {f1_macro:.4f}\")\n",
        "print(f\"Weighted-Average Precision: {precision_weighted:.4f}, Recall: {recall_weighted:.4f}, F1-Score: {f1_weighted:.4f}\")"
      ],
      "metadata": {
        "colab": {
          "base_uri": "https://localhost:8080/"
        },
        "id": "xUs0JRp51jTS",
        "outputId": "772bf070-9441-441b-b21d-920f08739c7f"
      },
      "execution_count": null,
      "outputs": [
        {
          "output_type": "stream",
          "name": "stdout",
          "text": [
            "Micro-Average Precision: 0.9333, Recall: 0.9333, F1-Score: 0.9333\n",
            "Macro-Average Precision: 0.9556, Recall: 0.9259, F1-Score: 0.9345\n",
            "Weighted-Average Precision: 0.9422, Recall: 0.9333, F1-Score: 0.9315\n"
          ]
        }
      ]
    },
    {
      "cell_type": "markdown",
      "source": [
        "# 4. SHAP (SHapley Additive exPlanations) importance"
      ],
      "metadata": {
        "id": "PU0P9t2iapY4"
      }
    },
    {
      "cell_type": "markdown",
      "source": [
        "- Explains how each feature contributes to an **individual prediction** by SHAP values  \n",
        "- Not related to correlation or linearity because it focuses on explaining a single prediction for one data point  \n",
        "- **Positive SHAP value**: Indicates that the feature contributes to increasing the prediction.\n",
        "- **Negative SHAP value (down term)**: Indicates that the feature contributes to decreasing the prediction  "
      ],
      "metadata": {
        "id": "1tsklLeeasHO"
      }
    },
    {
      "cell_type": "markdown",
      "source": [
        "$\\phi_i = \\sum_{S \\subseteq N \\setminus \\{i\\}} \\frac{|S|!(|N|-|S|-1)!}{|N|!} \\left[ f(S \\cup \\{i\\}) - f(S) \\right]$   \n",
        "- $\\sum$ Weight * Prediction difference\n",
        "\n",
        "- $\\phi_i$: **SHAP value** for feature i   \n",
        "\n",
        "- $S$: A subset of all features **excluding feature i**  \n",
        "\n",
        "- $N$: The set of all features  \n",
        "\n",
        "- $f(S)$: The model's prediction using Subset $S$, that excludes feature i  \n",
        "\n",
        "- $f(S \\cup \\{i\\})$: The model's prediction using subset $S$ with feature i added  \n",
        "\n",
        "- $\\frac{|S|!(|N|-|S|-1)!}{|N|!}$: **Weight**, ensures contribution of each feature is fairly reflected across all possible feature combinations\n"
      ],
      "metadata": {
        "id": "jNIJ8FaMxmO4"
      }
    },
    {
      "cell_type": "markdown",
      "source": [
        "$f(x) = \\phi_0 + \\sum_{i=1}^{M} \\phi_i$  \n",
        "- The sum of all SHAP values added to null model prediction equals to the model output"
      ],
      "metadata": {
        "id": "08IY9bjf5TG7"
      }
    },
    {
      "cell_type": "code",
      "source": [
        "import itertools\n",
        "\n",
        "def model(x1, x2, x3):\n",
        "    return 3 * x1 + 2 * x2 + x3\n",
        "\n",
        "# data point to calculate SHAP value\n",
        "x = [1, 0, 1]\n",
        "\n",
        "# S\n",
        "features = [0, 1, 2]\n",
        "subsets = list(itertools.chain.from_iterable(itertools.combinations(features, r) for r in range(len(features) + 1)))\n",
        "\n",
        "def shap_value(feature_idx, x):\n",
        "    shap_val = 0\n",
        "    for subset in subsets:\n",
        "        if feature_idx not in subset:\n",
        "            subset_with_feature = list(subset) + [feature_idx]\n",
        "\n",
        "            # f(S with feature i), f(S)\n",
        "            pred_with_feature = model(*(x[i] if i in subset_with_feature else 0 for i in range(3)))\n",
        "            pred_without_feature = model(*(x[i] if i in subset else 0 for i in range(3)))\n",
        "\n",
        "            # contribution:f(S with feature i) - f(S)\n",
        "            contribution = pred_with_feature - pred_without_feature\n",
        "\n",
        "            # Contribution * Weight\n",
        "            shap_val += contribution / (len(subset_with_feature) * len(subsets))\n",
        "\n",
        "    return shap_val\n",
        "\n",
        "shap_x1 = shap_value(0, x)\n",
        "shap_x2 = shap_value(1, x)\n",
        "shap_x3 = shap_value(2, x)\n",
        "\n",
        "print(f\"SHAP value for x1: {shap_x1}\")\n",
        "print(f\"SHAP value for x2: {shap_x2}\")\n",
        "print(f\"SHAP value for x3: {shap_x3}\")\n",
        "\n",
        "base_value = model(0, 0, 0)  # null model prediction\n",
        "model_output = base_value + shap_x1 + shap_x2 + shap_x3\n",
        "print(f\"Model output: {model_output}\")\n"
      ],
      "metadata": {
        "colab": {
          "base_uri": "https://localhost:8080/"
        },
        "id": "NhQW1wEs6lnx",
        "outputId": "2cc3034e-1fbe-4e72-dc03-74f51e0d8b35"
      },
      "execution_count": null,
      "outputs": [
        {
          "output_type": "stream",
          "name": "stdout",
          "text": [
            "SHAP value for x1: 0.875\n",
            "SHAP value for x2: 0.0\n",
            "SHAP value for x3: 0.2916666666666667\n",
            "Model output: 1.1666666666666667\n"
          ]
        }
      ]
    },
    {
      "cell_type": "markdown",
      "source": [
        "---"
      ],
      "metadata": {
        "id": "cPRlxzhQXe0x"
      }
    },
    {
      "cell_type": "markdown",
      "source": [
        "Reference:  \n",
        "- https://developers.google.com/machine-learning/crash-course/classification/roc-and-auc  \n",
        "- https://towardsdatascience.com/mse-and-bias-variance-decomposition-77449dd2ff55  \n",
        "- https://www.cs.cornell.edu/courses/cs4780/2018fa/lectures/lecturenote12.html  \n",
        "- https://www.learndatasci.com/glossary/precision-and-recall/  \n",
        "- https://towardsdatascience.com/understanding-auc-roc-curve-68b2303cc9c5\n",
        "\n"
      ],
      "metadata": {
        "id": "TIb5SuQTWBy8"
      }
    }
  ]
}